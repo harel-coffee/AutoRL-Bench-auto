{
 "cells": [
  {
   "cell_type": "markdown",
   "id": "c149747b",
   "metadata": {},
   "source": [
    "# Benchmark Usage"
   ]
  },
  {
   "cell_type": "markdown",
   "id": "151cfa82",
   "metadata": {},
   "source": [
    "1) Create Object **BenchmarkHandler** to access the data:"
   ]
  },
  {
   "cell_type": "code",
   "execution_count": 1,
   "id": "d95cc51d",
   "metadata": {},
   "outputs": [],
   "source": [
    "from benchmark_handler import BenchmarkHandler"
   ]
  },
  {
   "cell_type": "code",
   "execution_count": 2,
   "id": "ee503ef0",
   "metadata": {},
   "outputs": [],
   "source": [
    "data_path = \"\"\n",
    "benchmark = BenchmarkHandler(data_path=data_path)"
   ]
  },
  {
   "cell_type": "markdown",
   "id": "e7375314",
   "metadata": {},
   "source": [
    "2) List the search spaces:"
   ]
  },
  {
   "cell_type": "code",
   "execution_count": 3,
   "id": "a7b6df70",
   "metadata": {},
   "outputs": [
    {
     "data": {
      "text/plain": [
       "['PPO', 'A2C', 'DDPG']"
      ]
     },
     "execution_count": 3,
     "metadata": {},
     "output_type": "execute_result"
    }
   ],
   "source": [
    "benchmark.get_search_spaces_names(static=True)"
   ]
  },
  {
   "cell_type": "code",
   "execution_count": 4,
   "id": "033a2ff4",
   "metadata": {},
   "outputs": [
    {
     "data": {
      "text/plain": [
       "['PPO']"
      ]
     },
     "execution_count": 4,
     "metadata": {},
     "output_type": "execute_result"
    }
   ],
   "source": [
    "benchmark.get_search_spaces_names(static=False)"
   ]
  },
  {
   "cell_type": "markdown",
   "id": "09cc2cdd",
   "metadata": {},
   "source": [
    "3) Get the search space values:"
   ]
  },
  {
   "cell_type": "code",
   "execution_count": 5,
   "id": "2c4e1111",
   "metadata": {},
   "outputs": [
    {
     "data": {
      "text/plain": [
       "{'lr': [-6, -4, -4, -3, -2, -1],\n",
       " 'gamma': [0.8, 0.9, 0.95, 0.98, 0.99, 1.0],\n",
       " 'clip': [0.2, 0.3, 0.4]}"
      ]
     },
     "execution_count": 5,
     "metadata": {},
     "output_type": "execute_result"
    }
   ],
   "source": [
    "benchmark.get_search_space(\"PPO\")"
   ]
  },
  {
   "cell_type": "markdown",
   "id": "996e60c4",
   "metadata": {},
   "source": [
    "4) Get environments:"
   ]
  },
  {
   "cell_type": "code",
   "execution_count": 6,
   "id": "1d839e16",
   "metadata": {},
   "outputs": [
    {
     "data": {
      "text/plain": [
       "['Pong-v0',\n",
       " 'Alien-v0',\n",
       " 'BankHeist-v0',\n",
       " 'BeamRider-v0',\n",
       " 'Breakout-v0',\n",
       " 'Enduro-v0',\n",
       " 'Phoenix-v0',\n",
       " 'Seaquest-v0',\n",
       " 'SpaceInvadores-v0',\n",
       " 'Riverraid-v0',\n",
       " 'Tennis-v0',\n",
       " 'Skiing-v0',\n",
       " 'Boxing-v0',\n",
       " 'Bowling-v0',\n",
       " 'Asteroids-v0']"
      ]
     },
     "execution_count": 6,
     "metadata": {},
     "output_type": "execute_result"
    }
   ],
   "source": [
    "benchmark.get_environments()"
   ]
  },
  {
   "cell_type": "markdown",
   "id": "ec545a3f",
   "metadata": {},
   "source": [
    "5) Set the environment and search space you want to query:"
   ]
  },
  {
   "cell_type": "code",
   "execution_count": 7,
   "id": "df10c9f7",
   "metadata": {},
   "outputs": [],
   "source": [
    "benchmark.set_env_and_space(search_space=\"PPO\", environment=\"Pong-v0\")"
   ]
  },
  {
   "cell_type": "markdown",
   "id": "1f9c8bb7",
   "metadata": {},
   "source": [
    "6) Query current search space and environement for a given budget and configuraiton:"
   ]
  },
  {
   "cell_type": "code",
   "execution_count": 8,
   "id": "f4aebfaa",
   "metadata": {},
   "outputs": [],
   "source": [
    "configuration = {\"lr\":-6, \"gamma\": 0.8, \"clip\": 0.2}\n",
    "budget = 50\n",
    "queried_data = benchmark.get_metrics(configuration, budget=budget)"
   ]
  },
  {
   "cell_type": "code",
   "execution_count": 9,
   "id": "1e2ad5af",
   "metadata": {},
   "outputs": [
    {
     "data": {
      "text/plain": [
       "dict_keys(['returns_eval', 'std_returns_eval', 'timestamps_eval', 'timesteps_eval', 'timesteps_train', 'timestamps_train', 'returns_train'])"
      ]
     },
     "execution_count": 9,
     "metadata": {},
     "output_type": "execute_result"
    }
   ],
   "source": [
    "queried_data.keys()"
   ]
  },
  {
   "cell_type": "code",
   "execution_count": null,
   "id": "4bdf617b",
   "metadata": {},
   "outputs": [],
   "source": []
  },
  {
   "cell_type": "code",
   "execution_count": null,
   "id": "2423954d",
   "metadata": {},
   "outputs": [],
   "source": []
  }
 ],
 "metadata": {
  "kernelspec": {
   "display_name": "Python 3",
   "language": "python",
   "name": "python3"
  },
  "language_info": {
   "codemirror_mode": {
    "name": "ipython",
    "version": 3
   },
   "file_extension": ".py",
   "mimetype": "text/x-python",
   "name": "python",
   "nbconvert_exporter": "python",
   "pygments_lexer": "ipython3",
   "version": "3.8.8"
  }
 },
 "nbformat": 4,
 "nbformat_minor": 5
}
